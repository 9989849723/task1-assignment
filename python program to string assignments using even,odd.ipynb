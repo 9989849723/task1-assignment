{
 "cells": [
  {
   "cell_type": "code",
   "execution_count": 1,
   "id": "ee0e288c",
   "metadata": {},
   "outputs": [],
   "source": [
    "# 1.write a python program to convert a string to lower case"
   ]
  },
  {
   "cell_type": "code",
   "execution_count": 1,
   "id": "afc83f1f",
   "metadata": {},
   "outputs": [
    {
     "name": "stdout",
     "output_type": "stream",
     "text": [
      "enter a string:MANOJ\n"
     ]
    },
    {
     "data": {
      "text/plain": [
       "'manoj'"
      ]
     },
     "execution_count": 1,
     "metadata": {},
     "output_type": "execute_result"
    }
   ],
   "source": [
    "x=input(\"enter a string:\")\n",
    "x.lower()"
   ]
  },
  {
   "cell_type": "code",
   "execution_count": 2,
   "id": "679b295e",
   "metadata": {},
   "outputs": [],
   "source": [
    "# 2.write a python program to convert only odd indexed charcters to lower case"
   ]
  },
  {
   "cell_type": "code",
   "execution_count": 5,
   "id": "f472dc1b",
   "metadata": {},
   "outputs": [
    {
     "name": "stdout",
     "output_type": "stream",
     "text": [
      "enter a string:TEJA\n",
      "TeJa\n"
     ]
    }
   ],
   "source": [
    "x=input(\"enter a string:\")\n",
    "a=\"\"\n",
    "for letters in range(0,len(x)):\n",
    "    if letters%2!=0:\n",
    "        a=a+x[letters].lower()\n",
    "    else:\n",
    "        a=a+x[letters]\n",
    "print(a)        "
   ]
  },
  {
   "cell_type": "code",
   "execution_count": 6,
   "id": "5cd994f4",
   "metadata": {},
   "outputs": [],
   "source": [
    "# 3.write a python program to convert only even indexed charcters to lower case"
   ]
  },
  {
   "cell_type": "code",
   "execution_count": 10,
   "id": "155f3a39",
   "metadata": {},
   "outputs": [
    {
     "name": "stdout",
     "output_type": "stream",
     "text": [
      "RAJA RAJA CHOOLA VARMA\n",
      "rAjA RaJa cHoOlA VaRmA\n"
     ]
    }
   ],
   "source": [
    "x=input()\n",
    "a=\"\"\n",
    "for index in range(0,len(x)):\n",
    "    if index%2==0:\n",
    "        a=a+x[index].lower()\n",
    "    else:\n",
    "        a=a+x[index]\n",
    "print(a)        \n",
    "        "
   ]
  },
  {
   "cell_type": "code",
   "execution_count": 1,
   "id": "a8475cb6",
   "metadata": {},
   "outputs": [],
   "source": [
    "# write a python program to convert only odd indexed characters to upper case"
   ]
  },
  {
   "cell_type": "code",
   "execution_count": 5,
   "id": "ef31f969",
   "metadata": {},
   "outputs": [
    {
     "name": "stdout",
     "output_type": "stream",
     "text": [
      "enter a stringthe king kohli\n",
      "tHe kInG KoHlI\n"
     ]
    }
   ],
   "source": [
    "x=input(\"enter a string\")\n",
    "a=\"\"\n",
    "for index in range(0,len(x)):\n",
    "    if not index%2==0:\n",
    "        a=a+x[index].upper()\n",
    "    else:\n",
    "        a=a+x[index]\n",
    "print(a)        "
   ]
  },
  {
   "cell_type": "code",
   "execution_count": 6,
   "id": "f3200a0b",
   "metadata": {},
   "outputs": [],
   "source": [
    "# write a python program to convert only even indexed characters to upper case"
   ]
  },
  {
   "cell_type": "code",
   "execution_count": 7,
   "id": "b088394a",
   "metadata": {},
   "outputs": [
    {
     "name": "stdout",
     "output_type": "stream",
     "text": [
      "enter a stringhello my friend\n",
      "hElLo mY FrIeNd\n"
     ]
    }
   ],
   "source": [
    "x=input(\"enter a string\")\n",
    "a=\"\"\n",
    "for index in range(0,len(x)):\n",
    "    if not index%2==0:\n",
    "        a=a+x[index].upper()\n",
    "    else:\n",
    "        a=a+x[index]\n",
    "print(a)        \n"
   ]
  },
  {
   "cell_type": "code",
   "execution_count": 1,
   "id": "894167c7",
   "metadata": {},
   "outputs": [],
   "source": [
    "#write a python prgrm where you have all the bio data your name,sex,age,phone number,fathers name,mothers name create a variable named bio data"
   ]
  },
  {
   "cell_type": "code",
   "execution_count": 1,
   "id": "198048b6",
   "metadata": {},
   "outputs": [
    {
     "name": "stdout",
     "output_type": "stream",
     "text": [
      "type your name:manoj\n",
      "type your sex:male\n",
      "type your age:23\n",
      "type your numbe:798155555\n",
      "type your fathers name:raju\n",
      "type your mothers name:devi\n"
     ]
    },
    {
     "data": {
      "text/plain": [
       "'my name is manoj my sex is male my age is 23 my number is 798155555 my fathers name is raju my mothers name is devi'"
      ]
     },
     "execution_count": 1,
     "metadata": {},
     "output_type": "execute_result"
    }
   ],
   "source": [
    "name=input(\"type your name:\")\n",
    "sex=input(\"type your sex:\")\n",
    "age=int(input(\"type your age:\"))\n",
    "phone=int(input(\"type your numbe:\"))\n",
    "fathers_name=input(\"type your fathers name:\")\n",
    "mothers_name=input(\"type your mothers name:\")\n",
    "bio_data=\"my name is {} my sex is {} my age is {} my number is {} my fathers name is {} my mothers name is {}\"\n",
    "bio_data.format(name,sex,age,phone,fathers_name,mothers_name)"
   ]
  },
  {
   "cell_type": "code",
   "execution_count": 1,
   "id": "7fc81b8a",
   "metadata": {},
   "outputs": [],
   "source": [
    "# write a python program to count how many times\"@\" occured"
   ]
  },
  {
   "cell_type": "code",
   "execution_count": 2,
   "id": "4e1aaf9b",
   "metadata": {},
   "outputs": [
    {
     "name": "stdout",
     "output_type": "stream",
     "text": [
      "enter something you needed python@java@ruby@c++@\n"
     ]
    },
    {
     "data": {
      "text/plain": [
       "4"
      ]
     },
     "execution_count": 2,
     "metadata": {},
     "output_type": "execute_result"
    }
   ],
   "source": [
    "var=input(\"enter something you needed \")\n",
    "var.count(\"@\")\n"
   ]
  },
  {
   "cell_type": "code",
   "execution_count": 4,
   "id": "6e73d240",
   "metadata": {},
   "outputs": [],
   "source": [
    "# write a python program to get only names from the string \"name1.@gmail.com, name2.@gmail.com, name3.@gmail.com\""
   ]
  },
  {
   "cell_type": "code",
   "execution_count": 22,
   "id": "b9595365",
   "metadata": {},
   "outputs": [
    {
     "name": "stdout",
     "output_type": "stream",
     "text": [
      "name1 name2 name3\n"
     ]
    }
   ],
   "source": [
    "s1=\"name1.@gmail.com,name2.@gmail.com,name3.@gmail.com,name4.@gmail.com\"\n",
    "s1=s1.split(\".\")\n",
    "print(s1[0],s1[2][4:],s1[4][4:])\n",
    "                        "
   ]
  },
  {
   "cell_type": "code",
   "execution_count": 18,
   "id": "2dd6b30f",
   "metadata": {},
   "outputs": [],
   "source": [
    "# give a string of odd length greater that 9,return a new string made of the middle three characters of a given string"
   ]
  },
  {
   "cell_type": "code",
   "execution_count": 9,
   "id": "e768560f",
   "metadata": {},
   "outputs": [
    {
     "data": {
      "text/plain": [
       "'uth'"
      ]
     },
     "execution_count": 9,
     "metadata": {},
     "output_type": "execute_result"
    }
   ],
   "source": [
    "name=\"manojmuthineni\"\n",
    "b=int(len(name)/2)\n",
    "name[b-1:b+2]"
   ]
  },
  {
   "cell_type": "code",
   "execution_count": 24,
   "id": "f0804a04",
   "metadata": {},
   "outputs": [],
   "source": [
    "# write a python program to insert a 2 string in the middle of 1 string"
   ]
  },
  {
   "cell_type": "code",
   "execution_count": 5,
   "id": "e25d9537",
   "metadata": {},
   "outputs": [
    {
     "name": "stdout",
     "output_type": "stream",
     "text": [
      "muthmanojineni\n"
     ]
    }
   ],
   "source": [
    "var1=\"muthineni\"\n",
    "var2=\"manoj\"\n",
    "print(var1[:len(var1)//2:]+var2+var1[len(var1)//2:])"
   ]
  },
  {
   "cell_type": "code",
   "execution_count": 6,
   "id": "081e74cb",
   "metadata": {},
   "outputs": [],
   "source": [
    "# write a program to remove vowels from the entire alphabets"
   ]
  },
  {
   "cell_type": "code",
   "execution_count": 1,
   "id": "96421047",
   "metadata": {},
   "outputs": [
    {
     "name": "stdout",
     "output_type": "stream",
     "text": [
      "enter somethingabcdefghijklmnopqrstuvwxyz\n",
      "bcdfghjklmnpqrstvwxyz\n"
     ]
    }
   ],
   "source": [
    "var=input(\"enter something\")\n",
    "for a in var:\n",
    "    var1=var.replace(\"a\",\"\").replace(\"e\",\"\").replace(\"i\",\"\").replace(\"o\",\"\").replace(\"u\",\"\")\n",
    "print(var1)"
   ]
  },
  {
   "cell_type": "code",
   "execution_count": null,
   "id": "e8d2f098",
   "metadata": {},
   "outputs": [],
   "source": []
  }
 ],
 "metadata": {
  "kernelspec": {
   "display_name": "Python 3 (ipykernel)",
   "language": "python",
   "name": "python3"
  },
  "language_info": {
   "codemirror_mode": {
    "name": "ipython",
    "version": 3
   },
   "file_extension": ".py",
   "mimetype": "text/x-python",
   "name": "python",
   "nbconvert_exporter": "python",
   "pygments_lexer": "ipython3",
   "version": "3.9.13"
  }
 },
 "nbformat": 4,
 "nbformat_minor": 5
}
